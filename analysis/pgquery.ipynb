{
 "cells": [
  {
   "cell_type": "code",
   "execution_count": 37,
   "metadata": {},
   "outputs": [],
   "source": [
    "import psycopg2\n",
    "import sys\n",
    "import os\n",
    "\n",
    "wd = os.getcwd()\n",
    "filename = 'test4.csv'\n",
    "\n",
    "conn = psycopg2.connect(host=\"localhost\",database=\"postgres\", user=\"postgres\", password=\"\")\n",
    "\n",
    "cur = conn.cursor()\n",
    "\n",
    "cur.copy_expert(f\"COPY (SELECT committee_name, election_state, election_district, col_a_total_individual_contributions, col_a_pac_contributions, col_a_candidate_contributions, col_a_candidate_loans, col_a_total_receipts, col_b_total_receipts, col_a_total_disbursements, col_a_cash_on_hand_close FROM fec_campaign_summaries) TO '{wd}/data/processed/{filename}' WITH (FORMAT CSV, HEADER, DELIMITER ',');\", sys.stdout)"
   ]
  }
 ],
 "metadata": {
  "kernelspec": {
   "display_name": "Python 3",
   "language": "python",
   "name": "python3"
  },
  "language_info": {
   "codemirror_mode": {
    "name": "ipython",
    "version": 3
   },
   "file_extension": ".py",
   "mimetype": "text/x-python",
   "name": "python",
   "nbconvert_exporter": "python",
   "pygments_lexer": "ipython3",
   "version": "3.7.4"
  }
 },
 "nbformat": 4,
 "nbformat_minor": 4
}
